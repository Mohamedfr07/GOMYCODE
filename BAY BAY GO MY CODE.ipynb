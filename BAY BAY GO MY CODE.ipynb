{
 "cells": [
  {
   "cell_type": "code",
   "execution_count": null,
   "id": "b38e1611",
   "metadata": {},
   "outputs": [
    {
     "name": "stdout",
     "output_type": "stream",
     "text": [
      "enter the time in seconds:90\n",
      "00:56\r"
     ]
    }
   ],
   "source": [
    "import time\n",
    "def countdown(t):\n",
    "    while t:\n",
    "        mins,secs=divmod(t,60)\n",
    "        timer=\"{:02d}:{:02d}\".format(mins,secs)\n",
    "        print(timer,end=\"\\r\")\n",
    "        time.sleep(1)\n",
    "        t-=1\n",
    "    print(\"fire in the hole\")\n",
    "t=int(input(\"enter the time in seconds:\"))\n",
    "countdown(t)"
   ]
  },
  {
   "cell_type": "code",
   "execution_count": null,
   "id": "25fc1434",
   "metadata": {},
   "outputs": [],
   "source": []
  }
 ],
 "metadata": {
  "kernelspec": {
   "display_name": "Python 3",
   "language": "python",
   "name": "python3"
  }
 },
 "nbformat": 4,
 "nbformat_minor": 5
}
