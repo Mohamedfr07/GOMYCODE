{
 "cells": [
  {
   "cell_type": "code",
   "execution_count": 24,
   "id": "38840b72",
   "metadata": {},
   "outputs": [
    {
     "data": {
      "text/plain": [
       "'GO MY \\nCODE\\n2021\\n'"
      ]
     },
     "execution_count": 24,
     "metadata": {},
     "output_type": "execute_result"
    }
   ],
   "source": [
    "f = open(\"txt.txt\")    \n",
    "f.read()\n"
   ]
  },
  {
   "cell_type": "code",
   "execution_count": 25,
   "id": "9691f98c",
   "metadata": {},
   "outputs": [
    {
     "name": "stdout",
     "output_type": "stream",
     "text": [
      "how many lines will you read :1\n",
      "GO MY \n",
      "\n"
     ]
    }
   ],
   "source": [
    "# Question 2\n",
    "x=int(input(\"how many lines will you read :\"))\n",
    "file=open(\"txt.txt\")\n",
    "number_of_line= x\n",
    "for i in range(number_of_line):\n",
    "    line=file.readline()\n",
    "    print(line)"
   ]
  },
  {
   "cell_type": "code",
   "execution_count": 26,
   "id": "f94bbc23",
   "metadata": {},
   "outputs": [
    {
     "name": "stdout",
     "output_type": "stream",
     "text": [
      "how many lines will you read :-1\n",
      "['2021\\n']\n"
     ]
    }
   ],
   "source": [
    "# Question 3\n",
    "z=int(input(\"how many lines will you read :\"))\n",
    "file=open(\"txt.txt\",'r')\n",
    "lines=file.readlines()\n",
    "last_lines = lines[z:]\n",
    "print(last_lines)"
   ]
  },
  {
   "cell_type": "code",
   "execution_count": 28,
   "id": "896b85f6",
   "metadata": {},
   "outputs": [
    {
     "name": "stdout",
     "output_type": "stream",
     "text": [
      "the number of words of a given text : 4\n"
     ]
    }
   ],
   "source": [
    "# Question 4\n",
    "f=open(\"txt.txt\",\"rt\")\n",
    "c=f.read()\n",
    "words=c.split()\n",
    "print(\"the number of words of a given text :\",len(words))"
   ]
  },
  {
   "cell_type": "code",
   "execution_count": 29,
   "id": "182efaf0",
   "metadata": {},
   "outputs": [
    {
     "name": "stdout",
     "output_type": "stream",
     "text": [
      "how many lines will you read :-1\n",
      "['2021\\n']\n"
     ]
    }
   ],
   "source": [
    "# Bonus \n",
    "z=int(input(\"how many lines will you read :\"))\n",
    "file=open(\"txt.txt\",'r')\n",
    "lines=file.readlines()\n",
    "last_lines = lines[z:]\n",
    "print(last_lines)"
   ]
  },
  {
   "cell_type": "code",
   "execution_count": null,
   "id": "8644b915",
   "metadata": {},
   "outputs": [],
   "source": []
  }
 ],
 "metadata": {
  "kernelspec": {
   "display_name": "Python 3",
   "language": "python",
   "name": "python3"
  },
  "language_info": {
   "codemirror_mode": {
    "name": "ipython",
    "version": 3
   },
   "file_extension": ".py",
   "mimetype": "text/x-python",
   "name": "python",
   "nbconvert_exporter": "python",
   "pygments_lexer": "ipython3",
   "version": "3.8.8"
  }
 },
 "nbformat": 4,
 "nbformat_minor": 5
}
