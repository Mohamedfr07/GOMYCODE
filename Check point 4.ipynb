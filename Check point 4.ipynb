{
 "cells": [
  {
   "cell_type": "code",
   "execution_count": 3,
   "id": "026bf9c0",
   "metadata": {},
   "outputs": [
    {
     "name": "stdout",
     "output_type": "stream",
     "text": [
      "(50, 30)\n"
     ]
    }
   ],
   "source": [
    "#question 2\n",
    "def calculation(a,b):\n",
    "    x = int(a)\n",
    "    y = int(b)\n",
    "    return x+y,x-y\n",
    "w=40\n",
    "v=10\n",
    "result=calculation(w,v)\n",
    "print(result)"
   ]
  },
  {
   "cell_type": "code",
   "execution_count": 2,
   "id": "28754557",
   "metadata": {},
   "outputs": [
    {
     "name": "stdout",
     "output_type": "stream",
     "text": [
      "The first number is :2\n",
      "The second number is :5\n",
      "The third number is :1\n",
      "the max of these three numbers is: 5\n"
     ]
    }
   ],
   "source": [
    "#Question 1\n",
    "x=int(input(\"The first number is :\"))\n",
    "y=int(input(\"The second number is :\"))\n",
    "z=int(input(\"The third number is :\"))\n",
    "if z<y<x :\n",
    "    print(\"the max of these three numbers is:\",x)\n",
    "elif x<y<z :\n",
    "        print(\"the max of these three numbers is:\",z)\n",
    "else:\n",
    "        print(\"the max of these three numbers is:\",y)\n"
   ]
  },
  {
   "cell_type": "code",
   "execution_count": 40,
   "id": "e225c182",
   "metadata": {},
   "outputs": [
    {
     "name": "stdout",
     "output_type": "stream",
     "text": [
      "how many numbers :3\n",
      "Give the number :2\n",
      "Give the number :4\n",
      "Give the number :1\n",
      "The sum is : 7\n",
      "le produit est: 8\n",
      "the sum of even numbers : 3\n",
      "the sum of even numbers : 4\n"
     ]
    }
   ],
   "source": [
    "#question3\n",
    "num=int(input(\"how many numbers :\"))\n",
    "list=[]\n",
    "result=1\n",
    "for i in range (0,num):\n",
    "    e=int(input(\"Give the number :\"))\n",
    "    list.append(e)#append : thot l e f list\n",
    "print(\"The sum is :\",sum(list))\n",
    "for x in list:\n",
    "    result=x*result\n",
    "print(\"le produit est:\",result)\n",
    "def som(list):\n",
    "    s=0\n",
    "    for i in list:\n",
    "        s=s+i\n",
    "    return s\n",
    "def pro(list):\n",
    "    p=1\n",
    "    for i in list:\n",
    "        p=p*i\n",
    "    return p\n",
    "l1=[]\n",
    "l2=[]\n",
    "for i in range (0,len(list),2):\n",
    "    l1.append(list[i])\n",
    "    x=som(l1)\n",
    "print(\"the sum of even numbers :\",x)\n",
    "for i in range (1,len(list),2):\n",
    "    l2.append(list[i])\n",
    "    z=pro(l2)\n",
    "print(\"the sum of even numbers :\",z)\n"
   ]
  },
  {
   "cell_type": "code",
   "execution_count": null,
   "id": "13871c4c",
   "metadata": {},
   "outputs": [],
   "source": [
    "#Question 4\n",
    "list=[p for p in input().split(\"-\")]\n",
    "list.sort()\n",
    "print(\"-\".join(list))"
   ]
  },
  {
   "cell_type": "code",
   "execution_count": null,
   "id": "40997cbd",
   "metadata": {},
   "outputs": [],
   "source": []
  },
  {
   "cell_type": "code",
   "execution_count": null,
   "id": "a265be3d",
   "metadata": {},
   "outputs": [],
   "source": []
  },
  {
   "cell_type": "code",
   "execution_count": null,
   "id": "c0abe8d1",
   "metadata": {},
   "outputs": [],
   "source": [
    "#Question 5\n",
    "from math import sqrt\n",
    "D=input(\"Give D :\")\n",
    "D= D.split(\",\")\n",
    "def mth(list1):\n",
    "    lst=[]\n",
    "    for i in D:\n",
    "        C=50\n",
    "        H=30\n",
    "        Q=round(sqrt(2*C*int(i)/H))\n",
    "        lst.append(Q)\n",
    "    return lst\n",
    "print(mth(D))"
   ]
  },
  {
   "cell_type": "code",
   "execution_count": null,
   "id": "da1368d9",
   "metadata": {},
   "outputs": [],
   "source": []
  },
  {
   "cell_type": "code",
   "execution_count": null,
   "id": "50002770",
   "metadata": {},
   "outputs": [],
   "source": [
    "\n"
   ]
  },
  {
   "cell_type": "code",
   "execution_count": null,
   "id": "ea3684ca",
   "metadata": {},
   "outputs": [],
   "source": []
  },
  {
   "cell_type": "code",
   "execution_count": null,
   "id": "8d7ac82e",
   "metadata": {},
   "outputs": [],
   "source": []
  },
  {
   "cell_type": "code",
   "execution_count": null,
   "id": "7294f8bd",
   "metadata": {},
   "outputs": [],
   "source": []
  }
 ],
 "metadata": {
  "kernelspec": {
   "display_name": "Python 3",
   "language": "python",
   "name": "python3"
  },
  "language_info": {
   "codemirror_mode": {
    "name": "ipython",
    "version": 3
   },
   "file_extension": ".py",
   "mimetype": "text/x-python",
   "name": "python",
   "nbconvert_exporter": "python",
   "pygments_lexer": "ipython3",
   "version": "3.8.8"
  }
 },
 "nbformat": 4,
 "nbformat_minor": 5
}
