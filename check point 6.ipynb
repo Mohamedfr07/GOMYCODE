{
 "cells": [
  {
   "cell_type": "code",
   "execution_count": 32,
   "id": "fcf124d8",
   "metadata": {},
   "outputs": [],
   "source": [
    "import numpy as np"
   ]
  },
  {
   "cell_type": "code",
   "execution_count": 14,
   "id": "ba6344cd",
   "metadata": {},
   "outputs": [
    {
     "name": "stdout",
     "output_type": "stream",
     "text": [
      "Donner un nombre de ligne :2\n",
      "Donner un nombre de colonne :2\n",
      "Donner le nombre de liste :4\n",
      "[[0, 1], [2, 3]]\n"
     ]
    }
   ],
   "source": [
    "#Question 1\n",
    "\n",
    "y=int(input(\"Donner un nombre de ligne :\"))\n",
    "z=int(input(\"Donner un nombre de colonne :\"))\n",
    "x=int(input(\"Donner le nombre de liste :\"))\n",
    "a=np.arange(x).reshape(y,z) #np.arange : nombre de liste #reshape: 9adeh mn ligne(y)-9adeh men colonne(z)|\n",
    "b=a.tolist() # bech tbadel a l liste\n",
    "print(b)\n"
   ]
  },
  {
   "cell_type": "code",
   "execution_count": null,
   "id": "ae0dce00",
   "metadata": {},
   "outputs": [],
   "source": [
    "#Question 2\n",
    "\n",
    "y=int(input(\"Donner un nombre de ligne :\"))\n",
    "z=int(input(\"Donner un nombre de colonne :\"))\n",
    "x=int(input(\"Donner le nombre de liste :\"))\n",
    "a=np.arange(x).reshape(y,y)\n",
    "print(a)\n",
    "A=np.trace(b)# tejma3 diagonal\n",
    "print(A)"
   ]
  },
  {
   "cell_type": "code",
   "execution_count": 37,
   "id": "8c7a3e20",
   "metadata": {},
   "outputs": [
    {
     "name": "stdout",
     "output_type": "stream",
     "text": [
      "the number of comparing :3\n",
      "6\n",
      "4\n"
     ]
    }
   ],
   "source": [
    "#Question 3\n",
    "import numpy as np\n",
    "y=np.array([[1,2],[6,4],[3,5]])\n",
    "x=int(input(\"the number of comparing :\"))\n",
    "for i in y :\n",
    "    for a in i :\n",
    "        if a>x :\n",
    "            print(a)"
   ]
  },
  {
   "cell_type": "code",
   "execution_count": 27,
   "id": "8fa90f82",
   "metadata": {},
   "outputs": [
    {
     "name": "stdout",
     "output_type": "stream",
     "text": [
      "[[ 9 11]\n",
      " [11 11]\n",
      " [ 4  7]]\n"
     ]
    }
   ],
   "source": [
    "#Question 4\n",
    "\n",
    "x=np.array([[8,9],[5,7],[1,2]])\n",
    "y=np.array([[1,2],[6,4],[3,5]])\n",
    "z=x+y\n",
    "print(z)"
   ]
  },
  {
   "cell_type": "code",
   "execution_count": 30,
   "id": "c985fef1",
   "metadata": {},
   "outputs": [
    {
     "name": "stdout",
     "output_type": "stream",
     "text": [
      "Donner un nombre de ligne :5\n",
      "Donner un nombre de colonne :4\n",
      "Donner le debut  :2\n",
      "Donner la fin de l'intervalle :10\n",
      "[7 2 6 4]\n",
      "la moyenne est : 4.75\n",
      "V= 2.25\n",
      "V= -2.75\n",
      "V= 1.25\n",
      "V= -0.75\n",
      "[6 6 3 2]\n",
      "la moyenne est : 4.25\n",
      "V= 1.75\n",
      "V= 1.75\n",
      "V= -1.25\n",
      "V= -2.25\n",
      "[9 2 6 7]\n",
      "la moyenne est : 6.0\n",
      "V= 3.0\n",
      "V= -4.0\n",
      "V= 0.0\n",
      "V= 1.0\n",
      "[4 8 9 7]\n",
      "la moyenne est : 7.0\n",
      "V= -3.0\n",
      "V= 1.0\n",
      "V= 2.0\n",
      "V= 0.0\n",
      "[3 3 4 2]\n",
      "la moyenne est : 3.0\n",
      "V= 0.0\n",
      "V= 0.0\n",
      "V= 1.0\n",
      "V= -1.0\n"
     ]
    }
   ],
   "source": [
    "#Question 5\n",
    "e=int(input(\"Donner un nombre de ligne :\"))\n",
    "z=int(input(\"Donner un nombre de colonne :\"))\n",
    "x=int(input(\"Donner le debut  :\"))\n",
    "w=int(input(\"Donner la fin de l'intervalle :\"))\n",
    "a=np.random.randint(x,w,size=(e,z)) # tkharej a3ded bin x and w \n",
    "for i in a:\n",
    "    print(i)\n",
    "    y=i.mean()\n",
    "    print(\"la moyenne est :\",y)\n",
    "    for j in i:\n",
    "        V=j-y\n",
    "        print(\"V=\",V)\n",
    "        \n",
    "    "
   ]
  },
  {
   "cell_type": "code",
   "execution_count": null,
   "id": "c9d805e9",
   "metadata": {},
   "outputs": [],
   "source": []
  }
 ],
 "metadata": {
  "kernelspec": {
   "display_name": "Python 3",
   "language": "python",
   "name": "python3"
  },
  "language_info": {
   "codemirror_mode": {
    "name": "ipython",
    "version": 3
   },
   "file_extension": ".py",
   "mimetype": "text/x-python",
   "name": "python",
   "nbconvert_exporter": "python",
   "pygments_lexer": "ipython3",
   "version": "3.8.8"
  }
 },
 "nbformat": 4,
 "nbformat_minor": 5
}
