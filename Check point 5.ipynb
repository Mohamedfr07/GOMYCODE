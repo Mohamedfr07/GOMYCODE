{
 "cells": [
  {
   "cell_type": "code",
   "execution_count": 17,
   "id": "84e48038",
   "metadata": {},
   "outputs": [
    {
     "name": "stdout",
     "output_type": "stream",
     "text": [
      "med\n"
     ]
    }
   ],
   "source": [
    "\n",
    "class Parrot:\n",
    "    def __init__(self,name,age):\n",
    "        self.name=name\n",
    "        self.age=16\n",
    "p=Parrot(\"med\",16)\n",
    "print(p.name)\n",
    "\n",
    "\n"
   ]
  },
  {
   "cell_type": "code",
   "execution_count": 2,
   "id": "de4bd6f6",
   "metadata": {},
   "outputs": [
    {
     "name": "stdout",
     "output_type": "stream",
     "text": [
      "x=1,y=2,z=3\n"
     ]
    }
   ],
   "source": [
    "#Exercice 1\n",
    "class Point3D:\n",
    "    def __init__(self, x, y, z):\n",
    "        self.x = x\n",
    "        self.y = y\n",
    "        self.z = z\n",
    "    def germgerm(self):\n",
    "        return \"x={},y={},z={}\".format(self.x,self.y,self.z) #f west {} thot hajet \n",
    "my_point= Point3D(1,2,3)\n",
    "print (my_point.germgerm())\n"
   ]
  },
  {
   "cell_type": "code",
   "execution_count": 13,
   "id": "16ff3366",
   "metadata": {},
   "outputs": [
    {
     "name": "stdout",
     "output_type": "stream",
     "text": [
      "The perimeter is : 14 The area is : 12\n"
     ]
    }
   ],
   "source": [
    "#Exercice 2\n",
    "class Rectangle:\n",
    "    def __init__(self,l,w):\n",
    "        self.l=l\n",
    "        self.w=w\n",
    "    def Per(self):\n",
    "        a=2*(self.l+self.w)\n",
    "        return a\n",
    "    def area(self):\n",
    "        b=self.l*self.w\n",
    "        return b\n",
    "my_rectangle=Rectangle(3,4)\n",
    "x=my_rectangle.Per()\n",
    "y=my_rectangle.area()\n",
    "print(\"The perimeter is :\",x,\"The area is :\",y)"
   ]
  },
  {
   "cell_type": "code",
   "execution_count": 27,
   "id": "5b3ae5ac",
   "metadata": {},
   "outputs": [
    {
     "name": "stdout",
     "output_type": "stream",
     "text": [
      "x du point a :100\n",
      "y du point a :200\n",
      "x du point o :100\n",
      "y du point o :200\n",
      "Le rayon est :100\n",
      "31416 628 belongs to the circle\n"
     ]
    }
   ],
   "source": [
    "#Exercice 3\n",
    "from math import pi\n",
    "from math import sqrt\n",
    "x=int(input(\"x du point a :\"))\n",
    "y=int(input(\"y du point a :\"))\n",
    "X=int(input(\"x du point o :\"))\n",
    "Y=int(input(\"y du point o :\"))\n",
    "tple_a=(x,y)\n",
    "tple_o=(X,Y)\n",
    "r=int(input(\"Le rayon est :\"))\n",
    "class Circle:\n",
    "    def __init__(self,o,r):\n",
    "        self.center=o\n",
    "        self.rayon=r\n",
    "    def Area(self):\n",
    "        a=pi*(self.rayon**2)\n",
    "        return a\n",
    "    def perimetre(self):\n",
    "        p=2*pi*self.rayon\n",
    "        return p\n",
    "    def blg(self,a):\n",
    "        d=sqrt((x-X)**2+(y-Y)**2)\n",
    "        if r>=d:\n",
    "            return(\"belongs to the circle\")\n",
    "        else:\n",
    "            return(\"a doesnt belong to the circle\")\n",
    "a=Circle(tple_o,r)\n",
    "A=a.Area()\n",
    "B=a.perimetre()\n",
    "C=a.blg(tple_a)\n",
    "print(round(A),round(B),C)\n",
    "    "
   ]
  },
  {
   "cell_type": "code",
   "execution_count": 23,
   "id": "e6550ac8",
   "metadata": {},
   "outputs": [
    {
     "name": "stdout",
     "output_type": "stream",
     "text": [
      "How much do you have in your account :1000\n",
      "How much do you deposit :100\n",
      "How much do you withdraw :2000\n",
      "Impossible !\n",
      "you have after the depositing : 1100 Your bank account have : 1100\n"
     ]
    }
   ],
   "source": [
    "#Exercice 4\n",
    "class bank:\n",
    "    def __init__(self,t):\n",
    "        self.total=t \n",
    "    def deposit(self,val):\n",
    "        self.total+=val # total =total+val\n",
    "        return self.total\n",
    "    def withdraw(self,val):\n",
    "        if val>self.total:\n",
    "            print(\"Impossible !\")\n",
    "        else:\n",
    "            self.total-=val\n",
    "        return self.total\n",
    "c=int(input(\"How much do you have in your account :\"))\n",
    "a=int(input(\"How much do you deposit :\"))\n",
    "b=int(input(\"How much do you withdraw :\"))\n",
    "my_account=bank(c)\n",
    "o=my_account.deposit(a)\n",
    "i=my_account.withdraw(b)\n",
    "print(\"you have after the depositing :\",o,\"Your bank account have :\",i)\n",
    "\n",
    "        \n",
    "        \n",
    "        \n",
    "   "
   ]
  },
  {
   "cell_type": "code",
   "execution_count": null,
   "id": "b591b763",
   "metadata": {},
   "outputs": [],
   "source": []
  },
  {
   "cell_type": "code",
   "execution_count": null,
   "id": "71a03086",
   "metadata": {},
   "outputs": [],
   "source": []
  }
 ],
 "metadata": {
  "kernelspec": {
   "display_name": "Python 3",
   "language": "python",
   "name": "python3"
  },
  "language_info": {
   "codemirror_mode": {
    "name": "ipython",
    "version": 3
   },
   "file_extension": ".py",
   "mimetype": "text/x-python",
   "name": "python",
   "nbconvert_exporter": "python",
   "pygments_lexer": "ipython3",
   "version": "3.8.8"
  }
 },
 "nbformat": 4,
 "nbformat_minor": 5
}
