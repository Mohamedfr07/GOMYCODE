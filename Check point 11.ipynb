{
 "cells": [
  {
   "cell_type": "code",
   "execution_count": 22,
   "id": "a5367a44",
   "metadata": {},
   "outputs": [
    {
     "name": "stdout",
     "output_type": "stream",
     "text": [
      "Donner le premier nom :mohamed\n",
      "Donner le deuxième nom :salma\n",
      "7\n",
      "Relationship is : Enemies\n"
     ]
    }
   ],
   "source": [
    "#flame\n",
    "x=input(\"Donner le premier nom :\")\n",
    "y=input(\"Donner le deuxième nom :\")\n",
    "for i in x:\n",
    "    for j in y:\n",
    "        if i==j:\n",
    "            x=x.replace(i,\"\",1)\n",
    "            y=y.replace(j,\"\",1)\n",
    "l=len(x)+len(y)\n",
    "print(l)\n",
    "if l>0:\n",
    "    my_list=[\"Friends\",\"Lovers\",\"Affectionate\",\"Marriage\",\"Enemies\",\"Siblings\"]\n",
    "    while len(my_list)>1:\n",
    "        w=l%len(my_list)\n",
    "        s=w-1\n",
    "        if s>=0:\n",
    "            left=my_list[:s]\n",
    "            right=my_list[s+1:]\n",
    "            my_list=right+left\n",
    "        else:\n",
    "            my_list=my_list[:len(my_list)-1]\n",
    "    print(\"Relationship is :\",my_list[0])\n",
    "else:\n",
    "    print(\"the names are indifferents\")\n",
    "    \n",
    "    \n",
    "    "
   ]
  },
  {
   "cell_type": "code",
   "execution_count": null,
   "id": "5c34813f",
   "metadata": {},
   "outputs": [],
   "source": []
  },
  {
   "cell_type": "code",
   "execution_count": null,
   "id": "6954694e",
   "metadata": {},
   "outputs": [],
   "source": []
  }
 ],
 "metadata": {
  "kernelspec": {
   "display_name": "Python 3",
   "language": "python",
   "name": "python3"
  },
  "language_info": {
   "codemirror_mode": {
    "name": "ipython",
    "version": 3
   },
   "file_extension": ".py",
   "mimetype": "text/x-python",
   "name": "python",
   "nbconvert_exporter": "python",
   "pygments_lexer": "ipython3",
   "version": "3.8.8"
  }
 },
 "nbformat": 4,
 "nbformat_minor": 5
}
