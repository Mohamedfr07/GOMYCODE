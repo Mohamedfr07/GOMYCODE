{
 "cells": [
  {
   "cell_type": "code",
   "execution_count": 1,
   "id": "1b98db8c",
   "metadata": {},
   "outputs": [
    {
     "name": "stdout",
     "output_type": "stream",
     "text": [
      "Your first name is :med\n",
      "Your last name is :fr\n",
      "med   fr\n"
     ]
    }
   ],
   "source": [
    "#Question 1\n",
    "firstname=str(input(\"Your first name is :\"))\n",
    "lastname=str(input(\"Your last name is :\"))\n",
    "print(firstname,\" \",lastname)"
   ]
  },
  {
   "cell_type": "code",
   "execution_count": null,
   "id": "e9d0fac6",
   "metadata": {},
   "outputs": [],
   "source": [
    "#Qustion 2\n",
    "n=int(input(\"n=\"))\n",
    "nn=int(input(\"nn=\"))\n",
    "nnn=int(input(\"nnn=\"))\n",
    "X=n+nn+nnn\n",
    "print(\"The result is :\",X)\n"
   ]
  },
  {
   "cell_type": "code",
   "execution_count": null,
   "id": "3adc13d8",
   "metadata": {},
   "outputs": [],
   "source": [
    "#Question 3\n",
    "x=int(input(\"x =\"))\n",
    "if x %2==0:\n",
    "    print(\"this number is even\")\n",
    "else:\n",
    "    print(\"this number is odd\")"
   ]
  },
  {
   "cell_type": "code",
   "execution_count": null,
   "id": "69f2b06b",
   "metadata": {},
   "outputs": [],
   "source": [
    "#Question 4\n",
    "for i in range (2000,3201): #begin\n",
    "    if i%7==0 and i%5!=0:\n",
    "        print(i,end=\" \") #end"
   ]
  },
  {
   "cell_type": "code",
   "execution_count": null,
   "id": "be17d3fa",
   "metadata": {},
   "outputs": [],
   "source": [
    "#Question 5\n",
    "x=int(input(\"x =\"))\n",
    "if x==0:\n",
    "    print(\"1\")\n",
    "elif x<0:\n",
    "    print(\"impossible\")\n",
    "else:\n",
    "    a=1\n",
    "    for i in range(a,x+1):\n",
    "        a=a*i\n",
    "    print(a)\n"
   ]
  },
  {
   "cell_type": "code",
   "execution_count": null,
   "id": "60ced633",
   "metadata": {},
   "outputs": [],
   "source": [
    "#Question 6\n",
    "a=input(\"write your text :\")\n",
    "ch=\"\"\n",
    "for i in range (0,len(a),2):\n",
    "    if i%2==0:\n",
    "       ch=ch+a[i]\n",
    "print(ch)"
   ]
  },
  {
   "cell_type": "code",
   "execution_count": 5,
   "id": "9ff5150c",
   "metadata": {},
   "outputs": [
    {
     "name": "stdout",
     "output_type": "stream",
     "text": [
      "The price is :600\n",
      "you have a 50% discount\n"
     ]
    }
   ],
   "source": [
    "#Qustion 7\n",
    "p=int(input(\"The price is :\"))\n",
    "if p<200:\n",
    "    print(\"you have a 10% discount\")\n",
    "elif 200<=p<500:\n",
    "    print(\"you have a 30% discount\")\n",
    "elif 500<=p:\n",
    "    print(\"you have a 50% discount\")"
   ]
  },
  {
   "cell_type": "code",
   "execution_count": null,
   "id": "364da5df",
   "metadata": {},
   "outputs": [],
   "source": []
  },
  {
   "cell_type": "code",
   "execution_count": null,
   "id": "04501ad7",
   "metadata": {},
   "outputs": [],
   "source": []
  }
 ],
 "metadata": {
  "kernelspec": {
   "display_name": "Python 3",
   "language": "python",
   "name": "python3"
  },
  "language_info": {
   "codemirror_mode": {
    "name": "ipython",
    "version": 3
   },
   "file_extension": ".py",
   "mimetype": "text/x-python",
   "name": "python",
   "nbconvert_exporter": "python",
   "pygments_lexer": "ipython3",
   "version": "3.8.8"
  }
 },
 "nbformat": 4,
 "nbformat_minor": 5
}
